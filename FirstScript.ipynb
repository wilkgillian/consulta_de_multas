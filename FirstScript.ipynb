{
 "cells": [
  {
   "cell_type": "code",
   "execution_count": 24,
   "id": "420119bf-81a5-459e-a2f0-1671ae6104d2",
   "metadata": {},
   "outputs": [
    {
     "name": "stdout",
     "output_type": "stream",
     "text": [
      "Requirement already satisfied: pyautogui in c:\\users\\wilk.silva\\anaconda3\\lib\\site-packages (0.9.53)\n",
      "Requirement already satisfied: pygetwindow>=0.0.5 in c:\\users\\wilk.silva\\anaconda3\\lib\\site-packages (from pyautogui) (0.0.9)\n",
      "Requirement already satisfied: PyTweening>=1.0.1 in c:\\users\\wilk.silva\\anaconda3\\lib\\site-packages (from pyautogui) (1.0.4)\n",
      "Requirement already satisfied: pymsgbox in c:\\users\\wilk.silva\\anaconda3\\lib\\site-packages (from pyautogui) (1.0.9)\n",
      "Requirement already satisfied: mouseinfo in c:\\users\\wilk.silva\\anaconda3\\lib\\site-packages (from pyautogui) (0.1.3)\n",
      "Requirement already satisfied: pyscreeze>=0.1.21 in c:\\users\\wilk.silva\\anaconda3\\lib\\site-packages (from pyautogui) (0.1.28)\n",
      "Requirement already satisfied: pyrect in c:\\users\\wilk.silva\\anaconda3\\lib\\site-packages (from pygetwindow>=0.0.5->pyautogui) (0.2.0)\n",
      "Requirement already satisfied: pyperclip in c:\\users\\wilk.silva\\anaconda3\\lib\\site-packages (from mouseinfo->pyautogui) (1.8.2)\n",
      "Note: you may need to restart the kernel to use updated packages.\n"
     ]
    }
   ],
   "source": [
    "pip install pyautogui"
   ]
  },
  {
   "cell_type": "code",
   "execution_count": 27,
   "id": "46e00dc7-fbee-47ea-91ed-06a554384b97",
   "metadata": {},
   "outputs": [
    {
     "name": "stdout",
     "output_type": "stream",
     "text": [
      "Collecting webdriver_manager\n",
      "  Downloading webdriver_manager-3.8.2-py2.py3-none-any.whl (26 kB)\n",
      "Collecting python-dotenv\n",
      "  Downloading python_dotenv-0.20.0-py3-none-any.whl (17 kB)\n",
      "Requirement already satisfied: requests in c:\\users\\wilk.silva\\anaconda3\\lib\\site-packages (from webdriver_manager) (2.27.1)\n",
      "Requirement already satisfied: certifi>=2017.4.17 in c:\\users\\wilk.silva\\anaconda3\\lib\\site-packages (from requests->webdriver_manager) (2021.10.8)\n",
      "Requirement already satisfied: charset-normalizer~=2.0.0 in c:\\users\\wilk.silva\\anaconda3\\lib\\site-packages (from requests->webdriver_manager) (2.0.4)\n",
      "Requirement already satisfied: idna<4,>=2.5 in c:\\users\\wilk.silva\\anaconda3\\lib\\site-packages (from requests->webdriver_manager) (3.3)\n",
      "Requirement already satisfied: urllib3<1.27,>=1.21.1 in c:\\users\\wilk.silva\\anaconda3\\lib\\site-packages (from requests->webdriver_manager) (1.26.9)\n",
      "Installing collected packages: python-dotenv, webdriver-manager\n",
      "Successfully installed python-dotenv-0.20.0 webdriver-manager-3.8.2\n",
      "Note: you may need to restart the kernel to use updated packages.\n"
     ]
    }
   ],
   "source": [
    "pip install webdriver_manager"
   ]
  },
  {
   "cell_type": "code",
   "execution_count": 54,
   "id": "a8b6c965-3c7c-4467-be81-423d0d076e14",
   "metadata": {},
   "outputs": [],
   "source": [
    "import pyautogui\n",
    "import time\n",
    "from selenium import webdriver\n",
    "from selenium.webdriver.common.keys import Keys\n",
    "from selenium.webdriver.common.by import By\n",
    "from selenium.webdriver.support.ui import Select\n",
    "from datetime import datetime\n",
    "\n",
    "driver = webdriver.Chrome()\n",
    "driver.get(\"https://sistemas.mt.senac.br/\")\n",
    "assert \"Sistemas Web - Senac Mato Grosso\" in driver.title\n",
    "openSystem = driver.find_element(By.XPATH, \"//img[@src='assets_sistemas\\img\\sistemas\\sig-treinamento.png']\").click()\n",
    "time.sleep(2)\n",
    "driver.switch_to.window(driver.window_handles[1])\n",
    "assert \"SENAC Portal\" in driver.title\n",
    "time.sleep(4)\n",
    "select = Select(driver.find_element(By.TAG_NAME, \"select\"))\n",
    "select.select_by_visible_text(\"DR-MT\")\n",
    "driver.find_element(By.XPATH, \"/html/body/sig-app-root/sig-login/div[1]/div[2]/div/div[2]/sig-login-form/form/div/div[2]/button\").click()\n",
    "time.sleep(2)\n",
    "driver.find_element(By.ID, \"email\").send_keys(\"wilk.silva@mt.senac.br\")\n",
    "driver.find_element(By.ID, \"senha\").send_keys(\"Alterar@2022\")\n",
    "time.sleep(1)\n",
    "driver.find_element(By.XPATH, \"/html/body/sig-app-root/sig-login/div[1]/div[2]/div/div[2]/sig-login-form/form/div/div[1]/button\").click()\n",
    "time.sleep(4)\n",
    "driver.find_element(By.XPATH, \"/html/body/sig-app-root/section/section[2]/main/sig-home/div/section[2]/div/div[1]/div/a\").click()\n",
    "time.sleep(2)\n",
    "driver.find_element(By.XPATH, \"//*[@id='home-sig-portal-menu']/div[8]/div\").click()\n",
    "time.sleep(2)\n",
    "driver.find_element(By.XPATH, \"//*[@id='home-financeiro-menu']/div[12]/a\").click()\n",
    "time.sleep(2)\n",
    "driver.find_element(By.XPATH, \"/html/body/sig-app-root/section/section[2]/main/sig-listar/div[2]/div/div/div/div/a[1]/div/div/div/div[2]\").click()\n",
    "situacao = Select(driver.find_element(By.XPATH, \"/html/body/sig-app-root/section/section[2]/main/sig-receita-a-receber/div/div/div[2]/div/form/div[1]/div[1]/sig-input/div/select\"))\n",
    "situacao.select_by_visible_text(\"Vencida\")\n",
    "unidade = driver.find_element(By.XPATH, \"/html/body/sig-app-root/section/section[2]/main/sig-receita-a-receber/div/div/div[2]/div/form/div[1]/div[2]/div/sig-typeahead/div/div[1]/div[1]/input\").click()\n",
    "time.sleep(2)\n",
    "driver.find_element(By.XPATH, \"/html/body/sig-app-root/section/section[2]/main/sig-receita-a-receber/div/div/div[2]/div/form/div[1]/div[2]/div/sig-typeahead/div/div[3]/ul/li[1]\").click()\n",
    "filtro = Select(driver.find_element(By.XPATH, \"/html/body/sig-app-root/section/section[2]/main/sig-receita-a-receber/div/div/div[2]/div/form/div[2]/div[1]/sig-input/div/select\"))\n",
    "filtro.select_by_visible_text(\"Posição e Período\")\n",
    "comBase = Select(driver.find_element(By.XPATH, \"/html/body/sig-app-root/section/section[2]/main/sig-receita-a-receber/div/div/div[2]/div/form/div[2]/div[2]/sig-input/div/select\"))\n",
    "comBase.select_by_visible_text(\"Pagamento\")\n",
    "dataAtual = datetime.today()\n",
    "formatData = dataAtual.strftime(\"%d/%m/%Y\")\n",
    "posicao = driver.find_element(By.ID, \"calendar\").send_keys(str(formatData))\n",
    "comRelacao = Select(driver.find_element(By.XPATH, \"/html/body/sig-app-root/section/section[2]/main/sig-receita-a-receber/div/div/div[2]/div/form/div[3]/div[1]/sig-input/div/select\"))\n",
    "comRelacao.select_by_visible_text(\"Data de Vencimento\")\n",
    "formatInitialDate = dataAtual.strftime(\"01/%m/%Y\")\n",
    "# print(formatInitialDate)\n",
    "vencimentoInicial = driver.find_element(By.ID, \"dataInicio\").click()\n",
    "pyautogui.write(str(formatInitialDate))\n",
    "time.sleep(1)\n",
    "vencimentoFinal =  driver.find_element(By.ID, \"dataFinal\").click()\n",
    "pyautogui.write(str(formatData))\n",
    "time.sleep(1)\n",
    "tipoDeArquivo = Select(driver.find_element(By.XPATH, \"/html/body/sig-app-root/section/section[2]/main/sig-receita-a-receber/div/div/div[2]/div/form/div[3]/div[4]/sig-formato-de-impressao/div/sig-input/div/select\"))\n",
    "tipoDeArquivo.select_by_visible_text(\"PDF\")\n",
    "jurosCurrent = driver.find_element(By.XPATH, \"/html/body/sig-app-root/section/section[2]/main/sig-receita-a-receber/div/div/div[2]/div/form/div[4]/div[1]/label\").click()\n",
    "generate = driver.find_element(By.XPATH, \"/html/body/sig-app-root/section/section[2]/main/sig-receita-a-receber/div/div/div[2]/div/form/div[4]/div[2]/div/button[2]\").click()\n",
    "time.sleep(1)\n",
    "driver.find_element(By.XPATH, \"/html/body/div/div/div[3]/button[1]\").click()\n",
    "\n"
   ]
  },
  {
   "cell_type": "code",
   "execution_count": 55,
   "id": "7bdb2e84-f282-4adb-abd1-619347acbc7f",
   "metadata": {},
   "outputs": [],
   "source": [
    "pyautogui.press('win')\n",
    "pyautogui.write('meu computador')\n",
    "time.sleep(1)\n",
    "pyautogui.press('enter')\n",
    "time.sleep(1)\n",
    "pyautogui.write('downloads')\n",
    "time.sleep(1)\n",
    "pyautogui.press('enter')\n",
    "time.sleep(1)\n",
    "pyautogui.write('ReceitaAReceber')\n",
    "time.sleep(1)\n",
    "\n",
    "\n"
   ]
  },
  {
   "cell_type": "raw",
   "id": "6b219198-21fd-4a56-8141-f50fecdc00d7",
   "metadata": {},
   "source": []
  },
  {
   "cell_type": "code",
   "execution_count": null,
   "id": "bb1e5c0c-11d1-4e87-b428-c05b7c66232f",
   "metadata": {},
   "outputs": [],
   "source": []
  }
 ],
 "metadata": {
  "kernelspec": {
   "display_name": "Python 3 (ipykernel)",
   "language": "python",
   "name": "python3"
  },
  "language_info": {
   "codemirror_mode": {
    "name": "ipython",
    "version": 3
   },
   "file_extension": ".py",
   "mimetype": "text/x-python",
   "name": "python",
   "nbconvert_exporter": "python",
   "pygments_lexer": "ipython3",
   "version": "3.9.12"
  }
 },
 "nbformat": 4,
 "nbformat_minor": 5
}
