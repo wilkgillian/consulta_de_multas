{
 "cells": [
  {
   "cell_type": "code",
   "execution_count": 24,
   "id": "420119bf-81a5-459e-a2f0-1671ae6104d2",
   "metadata": {},
   "outputs": [
    {
     "name": "stdout",
     "output_type": "stream",
     "text": [
      "Requirement already satisfied: pyautogui in c:\\users\\wilk.silva\\anaconda3\\lib\\site-packages (0.9.53)\n",
      "Requirement already satisfied: pygetwindow>=0.0.5 in c:\\users\\wilk.silva\\anaconda3\\lib\\site-packages (from pyautogui) (0.0.9)\n",
      "Requirement already satisfied: PyTweening>=1.0.1 in c:\\users\\wilk.silva\\anaconda3\\lib\\site-packages (from pyautogui) (1.0.4)\n",
      "Requirement already satisfied: pymsgbox in c:\\users\\wilk.silva\\anaconda3\\lib\\site-packages (from pyautogui) (1.0.9)\n",
      "Requirement already satisfied: mouseinfo in c:\\users\\wilk.silva\\anaconda3\\lib\\site-packages (from pyautogui) (0.1.3)\n",
      "Requirement already satisfied: pyscreeze>=0.1.21 in c:\\users\\wilk.silva\\anaconda3\\lib\\site-packages (from pyautogui) (0.1.28)\n",
      "Requirement already satisfied: pyrect in c:\\users\\wilk.silva\\anaconda3\\lib\\site-packages (from pygetwindow>=0.0.5->pyautogui) (0.2.0)\n",
      "Requirement already satisfied: pyperclip in c:\\users\\wilk.silva\\anaconda3\\lib\\site-packages (from mouseinfo->pyautogui) (1.8.2)\n",
      "Note: you may need to restart the kernel to use updated packages.\n"
     ]
    }
   ],
   "source": [
    "pip install pyautogui"
   ]
  },
  {
   "cell_type": "code",
   "execution_count": 27,
   "id": "46e00dc7-fbee-47ea-91ed-06a554384b97",
   "metadata": {},
   "outputs": [
    {
     "name": "stdout",
     "output_type": "stream",
     "text": [
      "Collecting webdriver_manager\n",
      "  Downloading webdriver_manager-3.8.2-py2.py3-none-any.whl (26 kB)\n",
      "Collecting python-dotenv\n",
      "  Downloading python_dotenv-0.20.0-py3-none-any.whl (17 kB)\n",
      "Requirement already satisfied: requests in c:\\users\\wilk.silva\\anaconda3\\lib\\site-packages (from webdriver_manager) (2.27.1)\n",
      "Requirement already satisfied: certifi>=2017.4.17 in c:\\users\\wilk.silva\\anaconda3\\lib\\site-packages (from requests->webdriver_manager) (2021.10.8)\n",
      "Requirement already satisfied: charset-normalizer~=2.0.0 in c:\\users\\wilk.silva\\anaconda3\\lib\\site-packages (from requests->webdriver_manager) (2.0.4)\n",
      "Requirement already satisfied: idna<4,>=2.5 in c:\\users\\wilk.silva\\anaconda3\\lib\\site-packages (from requests->webdriver_manager) (3.3)\n",
      "Requirement already satisfied: urllib3<1.27,>=1.21.1 in c:\\users\\wilk.silva\\anaconda3\\lib\\site-packages (from requests->webdriver_manager) (1.26.9)\n",
      "Installing collected packages: python-dotenv, webdriver-manager\n",
      "Successfully installed python-dotenv-0.20.0 webdriver-manager-3.8.2\n",
      "Note: you may need to restart the kernel to use updated packages.\n"
     ]
    }
   ],
   "source": [
    "pip install webdriver_manager"
   ]
  },
  {
   "cell_type": "code",
   "execution_count": 45,
   "id": "a8b6c965-3c7c-4467-be81-423d0d076e14",
   "metadata": {},
   "outputs": [
    {
     "ename": "NameError",
     "evalue": "name 'date' is not defined",
     "output_type": "error",
     "traceback": [
      "\u001b[1;31m---------------------------------------------------------------------------\u001b[0m",
      "\u001b[1;31mNameError\u001b[0m                                 Traceback (most recent call last)",
      "Input \u001b[1;32mIn [45]\u001b[0m, in \u001b[0;36m<cell line: 40>\u001b[1;34m()\u001b[0m\n\u001b[0;32m     38\u001b[0m comBase \u001b[38;5;241m=\u001b[39m Select(driver\u001b[38;5;241m.\u001b[39mfind_element(By\u001b[38;5;241m.\u001b[39mXPATH, \u001b[38;5;124m\"\u001b[39m\u001b[38;5;124m/html/body/sig-app-root/section/section[2]/main/sig-receita-a-receber/div/div/div[2]/div/form/div[2]/div[2]/sig-input/div/select\u001b[39m\u001b[38;5;124m\"\u001b[39m))\n\u001b[0;32m     39\u001b[0m comBase\u001b[38;5;241m.\u001b[39mselect_by_visible_text(\u001b[38;5;124m\"\u001b[39m\u001b[38;5;124mPagamento\u001b[39m\u001b[38;5;124m\"\u001b[39m)\n\u001b[1;32m---> 40\u001b[0m dataAtual \u001b[38;5;241m=\u001b[39m \u001b[43mdate\u001b[49m\u001b[38;5;241m.\u001b[39mtoday()\n\u001b[0;32m     41\u001b[0m posicao \u001b[38;5;241m=\u001b[39m driver\u001b[38;5;241m.\u001b[39mfind_element(By\u001b[38;5;241m.\u001b[39mID, \u001b[38;5;124m\"\u001b[39m\u001b[38;5;124mcalendar\u001b[39m\u001b[38;5;124m\"\u001b[39m)\u001b[38;5;241m.\u001b[39msend_keys(dataAtual)\n",
      "\u001b[1;31mNameError\u001b[0m: name 'date' is not defined"
     ]
    }
   ],
   "source": [
    "import pyautogui\n",
    "import time\n",
    "from selenium import webdriver\n",
    "from selenium.webdriver.common.keys import Keys\n",
    "from selenium.webdriver.common.by import By\n",
    "from selenium.webdriver.support.ui import Select\n",
    "\n",
    "driver = webdriver.Chrome()\n",
    "driver.get(\"https://sistemas.mt.senac.br/\")\n",
    "assert \"Sistemas Web - Senac Mato Grosso\" in driver.title\n",
    "openSystem = driver.find_element(By.XPATH, \"//img[@src='assets_sistemas\\img\\sistemas\\sig-treinamento.png']\").click()\n",
    "time.sleep(2)\n",
    "driver.switch_to.window(driver.window_handles[1])\n",
    "assert \"SENAC Portal\" in driver.title\n",
    "time.sleep(4)\n",
    "select = Select(driver.find_element(By.TAG_NAME, \"select\"))\n",
    "select.select_by_visible_text(\"DR-MT\")\n",
    "driver.find_element(By.XPATH, \"/html/body/sig-app-root/sig-login/div[1]/div[2]/div/div[2]/sig-login-form/form/div/div[2]/button\").click()\n",
    "time.sleep(2)\n",
    "driver.find_element(By.ID, \"email\").send_keys(\"wilk.silva@mt.senac.br\")\n",
    "driver.find_element(By.ID, \"senha\").send_keys(\"Alterar@2022\")\n",
    "time.sleep(1)\n",
    "driver.find_element(By.XPATH, \"/html/body/sig-app-root/sig-login/div[1]/div[2]/div/div[2]/sig-login-form/form/div/div[1]/button\").click()\n",
    "time.sleep(4)\n",
    "driver.find_element(By.XPATH, \"/html/body/sig-app-root/section/section[2]/main/sig-home/div/section[2]/div/div[1]/div/a\").click()\n",
    "time.sleep(2)\n",
    "driver.find_element(By.XPATH, \"//*[@id='home-sig-portal-menu']/div[8]/div\").click()\n",
    "time.sleep(2)\n",
    "driver.find_element(By.XPATH, \"//*[@id='home-financeiro-menu']/div[12]/a\").click()\n",
    "time.sleep(2)\n",
    "driver.find_element(By.XPATH, \"/html/body/sig-app-root/section/section[2]/main/sig-listar/div[2]/div/div/div/div/a[1]/div/div/div/div[2]\").click()\n",
    "situacao = Select(driver.find_element(By.XPATH, \"/html/body/sig-app-root/section/section[2]/main/sig-receita-a-receber/div/div/div[2]/div/form/div[1]/div[1]/sig-input/div/select\"))\n",
    "situacao.select_by_visible_text(\"Vencida\")\n",
    "unidade = driver.find_element(By.XPATH, \"/html/body/sig-app-root/section/section[2]/main/sig-receita-a-receber/div/div/div[2]/div/form/div[1]/div[2]/div/sig-typeahead/div/div[1]/div[1]/input\").send_keys(\"SENAC CEP CUIABÁ\")\n",
    "pyautogui.press('enter')\n",
    "filtro = Select(driver.find_element(By.XPATH, \"/html/body/sig-app-root/section/section[2]/main/sig-receita-a-receber/div/div/div[2]/div/form/div[2]/div[1]/sig-input/div/select\"))\n",
    "filtro.select_by_visible_text(\"Posição e Período\")\n",
    "comBase = Select(driver.find_element(By.XPATH, \"/html/body/sig-app-root/section/section[2]/main/sig-receita-a-receber/div/div/div[2]/div/form/div[2]/div[2]/sig-input/div/select\"))\n",
    "comBase.select_by_visible_text(\"Pagamento\")\n",
    "dataAtual = date.today()\n",
    "posicao = driver.find_element(By.ID, \"calendar\").send_keys(dataAtual)\n",
    "\n"
   ]
  },
  {
   "cell_type": "code",
   "execution_count": 21,
   "id": "7bdb2e84-f282-4adb-abd1-619347acbc7f",
   "metadata": {},
   "outputs": [],
   "source": [
    "pyautogui.press('win')\n",
    "pyautogui.write('chrome')\n",
    "time.sleep(1)\n",
    "pyautogui.press('enter')\n",
    "time.sleep(1)\n",
    "pyautogui.write('https://cloudtreina.plataforma.senac.br/#/login?returnUrl=%2F')\n",
    "time.sleep(2)\n",
    "pyautogui.press('enter')\n"
   ]
  },
  {
   "cell_type": "raw",
   "id": "6b219198-21fd-4a56-8141-f50fecdc00d7",
   "metadata": {},
   "source": []
  },
  {
   "cell_type": "code",
   "execution_count": null,
   "id": "bb1e5c0c-11d1-4e87-b428-c05b7c66232f",
   "metadata": {},
   "outputs": [],
   "source": []
  }
 ],
 "metadata": {
  "kernelspec": {
   "display_name": "Python 3 (ipykernel)",
   "language": "python",
   "name": "python3"
  },
  "language_info": {
   "codemirror_mode": {
    "name": "ipython",
    "version": 3
   },
   "file_extension": ".py",
   "mimetype": "text/x-python",
   "name": "python",
   "nbconvert_exporter": "python",
   "pygments_lexer": "ipython3",
   "version": "3.9.12"
  }
 },
 "nbformat": 4,
 "nbformat_minor": 5
}
