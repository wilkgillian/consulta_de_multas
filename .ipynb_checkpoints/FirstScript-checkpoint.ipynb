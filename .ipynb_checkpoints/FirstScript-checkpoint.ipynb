{
 "cells": [
  {
   "cell_type": "code",
   "execution_count": 24,
   "id": "420119bf-81a5-459e-a2f0-1671ae6104d2",
   "metadata": {},
   "outputs": [
    {
     "name": "stdout",
     "output_type": "stream",
     "text": [
      "Requirement already satisfied: pyautogui in c:\\users\\wilk.silva\\anaconda3\\lib\\site-packages (0.9.53)\n",
      "Requirement already satisfied: pygetwindow>=0.0.5 in c:\\users\\wilk.silva\\anaconda3\\lib\\site-packages (from pyautogui) (0.0.9)\n",
      "Requirement already satisfied: PyTweening>=1.0.1 in c:\\users\\wilk.silva\\anaconda3\\lib\\site-packages (from pyautogui) (1.0.4)\n",
      "Requirement already satisfied: pymsgbox in c:\\users\\wilk.silva\\anaconda3\\lib\\site-packages (from pyautogui) (1.0.9)\n",
      "Requirement already satisfied: mouseinfo in c:\\users\\wilk.silva\\anaconda3\\lib\\site-packages (from pyautogui) (0.1.3)\n",
      "Requirement already satisfied: pyscreeze>=0.1.21 in c:\\users\\wilk.silva\\anaconda3\\lib\\site-packages (from pyautogui) (0.1.28)\n",
      "Requirement already satisfied: pyrect in c:\\users\\wilk.silva\\anaconda3\\lib\\site-packages (from pygetwindow>=0.0.5->pyautogui) (0.2.0)\n",
      "Requirement already satisfied: pyperclip in c:\\users\\wilk.silva\\anaconda3\\lib\\site-packages (from mouseinfo->pyautogui) (1.8.2)\n",
      "Note: you may need to restart the kernel to use updated packages.\n"
     ]
    }
   ],
   "source": [
    "pip install pyautogui"
   ]
  },
  {
   "cell_type": "code",
   "execution_count": 27,
   "id": "46e00dc7-fbee-47ea-91ed-06a554384b97",
   "metadata": {},
   "outputs": [
    {
     "name": "stdout",
     "output_type": "stream",
     "text": [
      "Collecting webdriver_manager\n",
      "  Downloading webdriver_manager-3.8.2-py2.py3-none-any.whl (26 kB)\n",
      "Collecting python-dotenv\n",
      "  Downloading python_dotenv-0.20.0-py3-none-any.whl (17 kB)\n",
      "Requirement already satisfied: requests in c:\\users\\wilk.silva\\anaconda3\\lib\\site-packages (from webdriver_manager) (2.27.1)\n",
      "Requirement already satisfied: certifi>=2017.4.17 in c:\\users\\wilk.silva\\anaconda3\\lib\\site-packages (from requests->webdriver_manager) (2021.10.8)\n",
      "Requirement already satisfied: charset-normalizer~=2.0.0 in c:\\users\\wilk.silva\\anaconda3\\lib\\site-packages (from requests->webdriver_manager) (2.0.4)\n",
      "Requirement already satisfied: idna<4,>=2.5 in c:\\users\\wilk.silva\\anaconda3\\lib\\site-packages (from requests->webdriver_manager) (3.3)\n",
      "Requirement already satisfied: urllib3<1.27,>=1.21.1 in c:\\users\\wilk.silva\\anaconda3\\lib\\site-packages (from requests->webdriver_manager) (1.26.9)\n",
      "Installing collected packages: python-dotenv, webdriver-manager\n",
      "Successfully installed python-dotenv-0.20.0 webdriver-manager-3.8.2\n",
      "Note: you may need to restart the kernel to use updated packages.\n"
     ]
    }
   ],
   "source": [
    "pip install webdriver_manager"
   ]
  },
  {
   "cell_type": "code",
   "execution_count": 8,
   "id": "a8b6c965-3c7c-4467-be81-423d0d076e14",
   "metadata": {},
   "outputs": [
    {
     "data": {
      "text/html": [
       "<div>\n",
       "<style scoped>\n",
       "    .dataframe tbody tr th:only-of-type {\n",
       "        vertical-align: middle;\n",
       "    }\n",
       "\n",
       "    .dataframe tbody tr th {\n",
       "        vertical-align: top;\n",
       "    }\n",
       "\n",
       "    .dataframe thead th {\n",
       "        text-align: right;\n",
       "    }\n",
       "</style>\n",
       "<table border=\"1\" class=\"dataframe\">\n",
       "  <thead>\n",
       "    <tr style=\"text-align: right;\">\n",
       "      <th></th>\n",
       "    </tr>\n",
       "  </thead>\n",
       "  <tbody>\n",
       "  </tbody>\n",
       "</table>\n",
       "</div>"
      ],
      "text/plain": [
       "Empty DataFrame\n",
       "Columns: []\n",
       "Index: []"
      ]
     },
     "metadata": {},
     "output_type": "display_data"
    }
   ],
   "source": [
    "import pyautogui\n",
    "import time\n",
    "from selenium import webdriver\n",
    "from selenium.webdriver.common.keys import Keys\n",
    "from selenium.webdriver.common.by import By\n",
    "from selenium.webdriver.support.ui import Select\n",
    "from datetime import datetime\n",
    "import pandas as pd\n",
    "\n",
    "driver = webdriver.Chrome()\n",
    "driver.get(\"https://www.detran.mt.gov.br/\")\n",
    "assert \"Início - DETRAN\" in driver.title\n",
    "openSystem = driver.find_element(By.XPATH, \"//*[@id='myPopup']/span\").click()\n",
    "time.sleep(2)\n",
    "# time.sleep(4)\n",
    "# select = Select(driver.find_element(By.TAG_NAME, \"select\"))\n",
    "# select.select_by_visible_text(\"DR-MT\")\n",
    "placa = \"OAW7410\"\n",
    "driver.find_element(By.ID, \"input_placa\").send_keys(placa)\n",
    "time.sleep(2)\n",
    "driver.find_element(By.ID, \"input_renavam\").send_keys(\"01211110041\")\n",
    "driver.find_element(By.XPATH, \"//*[@id='formVeiculo']/div[4]/input[2]\").click()\n",
    "time.sleep(1)\n",
    "driver.switch_to.window(driver.window_handles[1])\n",
    "\n",
    "# planilha = pd.read_excel(\"C:/Users/wilk.silva/Downloads/Controle - Frota.xlsx\")\n",
    "# display(planilha)\n",
    "# assert \"DetranNet - Extrato do Veículo de PLACA {placa}\" in driver.title\n",
    "# driver.find_element(By.XPATH, \"/html/body/sig-app-root/sig-login/div[1]/div[2]/div/div[2]/sig-login-form/form/div/div[1]/button\").click()\n",
    "# time.sleep(4)\n",
    "# driver.find_element(By.XPATH, \"/html/body/sig-app-root/section/section[2]/main/sig-home/div/section[2]/div/div[1]/div/a\").click()\n",
    "# time.sleep(2)\n",
    "# driver.find_element(By.XPATH, \"//*[@id='home-sig-portal-menu']/div[8]/div\").click()\n",
    "# time.sleep(2)\n",
    "# driver.find_element(By.XPATH, \"//*[@id='home-financeiro-menu']/div[12]/a\").click()\n",
    "# time.sleep(2)\n",
    "# driver.find_element(By.XPATH, \"/html/body/sig-app-root/section/section[2]/main/sig-listar/div[2]/div/div/div/div/a[1]/div/div/div/div[2]\").click()\n",
    "# situacao = Select(driver.find_element(By.XPATH, \"/html/body/sig-app-root/section/section[2]/main/sig-receita-a-receber/div/div/div[2]/div/form/div[1]/div[1]/sig-input/div/select\"))\n",
    "# situacao.select_by_visible_text(\"Vencida\")\n",
    "# unidade = driver.find_element(By.XPATH, \"/html/body/sig-app-root/section/section[2]/main/sig-receita-a-receber/div/div/div[2]/div/form/div[1]/div[2]/div/sig-typeahead/div/div[1]/div[1]/input\").click()\n",
    "# time.sleep(2)\n",
    "# driver.find_element(By.XPATH, \"/html/body/sig-app-root/section/section[2]/main/sig-receita-a-receber/div/div/div[2]/div/form/div[1]/div[2]/div/sig-typeahead/div/div[3]/ul/li[1]\").click()\n",
    "# filtro = Select(driver.find_element(By.XPATH, \"/html/body/sig-app-root/section/section[2]/main/sig-receita-a-receber/div/div/div[2]/div/form/div[2]/div[1]/sig-input/div/select\"))\n",
    "# filtro.select_by_visible_text(\"Posição e Período\")\n",
    "# comBase = Select(driver.find_element(By.XPATH, \"/html/body/sig-app-root/section/section[2]/main/sig-receita-a-receber/div/div/div[2]/div/form/div[2]/div[2]/sig-input/div/select\"))\n",
    "# comBase.select_by_visible_text(\"Pagamento\")\n",
    "# dataAtual = datetime.today()\n",
    "# formatData = dataAtual.strftime(\"%d/%m/%Y\")\n",
    "# posicao = driver.find_element(By.ID, \"calendar\").send_keys(str(formatData))\n",
    "# comRelacao = Select(driver.find_element(By.XPATH, \"/html/body/sig-app-root/section/section[2]/main/sig-receita-a-receber/div/div/div[2]/div/form/div[3]/div[1]/sig-input/div/select\"))\n",
    "# comRelacao.select_by_visible_text(\"Data de Vencimento\")\n",
    "# formatInitialDate = dataAtual.strftime(\"01/%m/%Y\")\n",
    "# # print(formatInitialDate)\n",
    "# vencimentoInicial = driver.find_element(By.ID, \"dataInicio\").click()\n",
    "# pyautogui.write(str(formatInitialDate))\n",
    "# time.sleep(1)\n",
    "# vencimentoFinal =  driver.find_element(By.ID, \"dataFinal\").click()\n",
    "# pyautogui.write(str(formatData))\n",
    "# time.sleep(1)\n",
    "# tipoDeArquivo = Select(driver.find_element(By.XPATH, \"/html/body/sig-app-root/section/section[2]/main/sig-receita-a-receber/div/div/div[2]/div/form/div[3]/div[4]/sig-formato-de-impressao/div/sig-input/div/select\"))\n",
    "# tipoDeArquivo.select_by_visible_text(\"PDF\")\n",
    "# jurosCurrent = driver.find_element(By.XPATH, \"/html/body/sig-app-root/section/section[2]/main/sig-receita-a-receber/div/div/div[2]/div/form/div[4]/div[1]/label\").click()\n",
    "# generate = driver.find_element(By.XPATH, \"/html/body/sig-app-root/section/section[2]/main/sig-receita-a-receber/div/div/div[2]/div/form/div[4]/div[2]/div/button[2]\").click()\n",
    "# time.sleep(1)\n",
    "# driver.find_element(By.XPATH, \"/html/body/div/div/div[3]/button[1]\").click()\n",
    "\n"
   ]
  },
  {
   "cell_type": "code",
   "execution_count": 8,
   "id": "7bdb2e84-f282-4adb-abd1-619347acbc7f",
   "metadata": {},
   "outputs": [
    {
     "name": "stdout",
     "output_type": "stream",
     "text": [
      "Unnamed: 8      index: 0  row PLACA\n",
      "Unnamed: 9    index: 0  row RENAVAN\n",
      "Name: 0, dtype: object\n"
     ]
    },
    {
     "ename": "KeyError",
     "evalue": "'PLACA'",
     "output_type": "error",
     "traceback": [
      "\u001b[1;31m---------------------------------------------------------------------------\u001b[0m",
      "\u001b[1;31mKeyError\u001b[0m                                  Traceback (most recent call last)",
      "File \u001b[1;32m~\\Anaconda3\\lib\\site-packages\\pandas\\core\\indexes\\base.py:3621\u001b[0m, in \u001b[0;36mIndex.get_loc\u001b[1;34m(self, key, method, tolerance)\u001b[0m\n\u001b[0;32m   3620\u001b[0m \u001b[38;5;28;01mtry\u001b[39;00m:\n\u001b[1;32m-> 3621\u001b[0m     \u001b[38;5;28;01mreturn\u001b[39;00m \u001b[38;5;28;43mself\u001b[39;49m\u001b[38;5;241;43m.\u001b[39;49m\u001b[43m_engine\u001b[49m\u001b[38;5;241;43m.\u001b[39;49m\u001b[43mget_loc\u001b[49m\u001b[43m(\u001b[49m\u001b[43mcasted_key\u001b[49m\u001b[43m)\u001b[49m\n\u001b[0;32m   3622\u001b[0m \u001b[38;5;28;01mexcept\u001b[39;00m \u001b[38;5;167;01mKeyError\u001b[39;00m \u001b[38;5;28;01mas\u001b[39;00m err:\n",
      "File \u001b[1;32m~\\Anaconda3\\lib\\site-packages\\pandas\\_libs\\index.pyx:136\u001b[0m, in \u001b[0;36mpandas._libs.index.IndexEngine.get_loc\u001b[1;34m()\u001b[0m\n",
      "File \u001b[1;32m~\\Anaconda3\\lib\\site-packages\\pandas\\_libs\\index.pyx:163\u001b[0m, in \u001b[0;36mpandas._libs.index.IndexEngine.get_loc\u001b[1;34m()\u001b[0m\n",
      "File \u001b[1;32mpandas\\_libs\\hashtable_class_helper.pxi:5198\u001b[0m, in \u001b[0;36mpandas._libs.hashtable.PyObjectHashTable.get_item\u001b[1;34m()\u001b[0m\n",
      "File \u001b[1;32mpandas\\_libs\\hashtable_class_helper.pxi:5206\u001b[0m, in \u001b[0;36mpandas._libs.hashtable.PyObjectHashTable.get_item\u001b[1;34m()\u001b[0m\n",
      "\u001b[1;31mKeyError\u001b[0m: 'PLACA'",
      "\nThe above exception was the direct cause of the following exception:\n",
      "\u001b[1;31mKeyError\u001b[0m                                  Traceback (most recent call last)",
      "Input \u001b[1;32mIn [8]\u001b[0m, in \u001b[0;36m<cell line: 14>\u001b[1;34m()\u001b[0m\n\u001b[0;32m     20\u001b[0m time\u001b[38;5;241m.\u001b[39msleep(\u001b[38;5;241m2\u001b[39m)\n\u001b[0;32m     21\u001b[0m \u001b[38;5;28mprint\u001b[39m(\u001b[38;5;124m\"\u001b[39m\u001b[38;5;124mindex: \u001b[39m\u001b[38;5;124m\"\u001b[39m\u001b[38;5;241m+\u001b[39m\u001b[38;5;28mstr\u001b[39m(index)\u001b[38;5;241m+\u001b[39m\u001b[38;5;124m\"\u001b[39m\u001b[38;5;124m  row \u001b[39m\u001b[38;5;124m\"\u001b[39m\u001b[38;5;241m+\u001b[39mrow\u001b[38;5;241m+\u001b[39m\u001b[38;5;124m\"\u001b[39m\u001b[38;5;124m\"\u001b[39m)\n\u001b[1;32m---> 22\u001b[0m placa \u001b[38;5;241m=\u001b[39m \u001b[38;5;28mstr\u001b[39m(\u001b[43mrow\u001b[49m\u001b[43m[\u001b[49m\u001b[38;5;124;43m\"\u001b[39;49m\u001b[38;5;124;43mPLACA\u001b[39;49m\u001b[38;5;124;43m\"\u001b[39;49m\u001b[43m]\u001b[49m)\n\u001b[0;32m     23\u001b[0m driver\u001b[38;5;241m.\u001b[39mfind_element(By\u001b[38;5;241m.\u001b[39mID, \u001b[38;5;124m\"\u001b[39m\u001b[38;5;124minput_placa\u001b[39m\u001b[38;5;124m\"\u001b[39m)\u001b[38;5;241m.\u001b[39msend_keys(placa)\n\u001b[0;32m     24\u001b[0m time\u001b[38;5;241m.\u001b[39msleep(\u001b[38;5;241m20\u001b[39m)\n",
      "File \u001b[1;32m~\\Anaconda3\\lib\\site-packages\\pandas\\core\\series.py:958\u001b[0m, in \u001b[0;36mSeries.__getitem__\u001b[1;34m(self, key)\u001b[0m\n\u001b[0;32m    955\u001b[0m     \u001b[38;5;28;01mreturn\u001b[39;00m \u001b[38;5;28mself\u001b[39m\u001b[38;5;241m.\u001b[39m_values[key]\n\u001b[0;32m    957\u001b[0m \u001b[38;5;28;01melif\u001b[39;00m key_is_scalar:\n\u001b[1;32m--> 958\u001b[0m     \u001b[38;5;28;01mreturn\u001b[39;00m \u001b[38;5;28;43mself\u001b[39;49m\u001b[38;5;241;43m.\u001b[39;49m\u001b[43m_get_value\u001b[49m\u001b[43m(\u001b[49m\u001b[43mkey\u001b[49m\u001b[43m)\u001b[49m\n\u001b[0;32m    960\u001b[0m \u001b[38;5;28;01mif\u001b[39;00m is_hashable(key):\n\u001b[0;32m    961\u001b[0m     \u001b[38;5;66;03m# Otherwise index.get_value will raise InvalidIndexError\u001b[39;00m\n\u001b[0;32m    962\u001b[0m     \u001b[38;5;28;01mtry\u001b[39;00m:\n\u001b[0;32m    963\u001b[0m         \u001b[38;5;66;03m# For labels that don't resolve as scalars like tuples and frozensets\u001b[39;00m\n",
      "File \u001b[1;32m~\\Anaconda3\\lib\\site-packages\\pandas\\core\\series.py:1069\u001b[0m, in \u001b[0;36mSeries._get_value\u001b[1;34m(self, label, takeable)\u001b[0m\n\u001b[0;32m   1066\u001b[0m     \u001b[38;5;28;01mreturn\u001b[39;00m \u001b[38;5;28mself\u001b[39m\u001b[38;5;241m.\u001b[39m_values[label]\n\u001b[0;32m   1068\u001b[0m \u001b[38;5;66;03m# Similar to Index.get_value, but we do not fall back to positional\u001b[39;00m\n\u001b[1;32m-> 1069\u001b[0m loc \u001b[38;5;241m=\u001b[39m \u001b[38;5;28;43mself\u001b[39;49m\u001b[38;5;241;43m.\u001b[39;49m\u001b[43mindex\u001b[49m\u001b[38;5;241;43m.\u001b[39;49m\u001b[43mget_loc\u001b[49m\u001b[43m(\u001b[49m\u001b[43mlabel\u001b[49m\u001b[43m)\u001b[49m\n\u001b[0;32m   1070\u001b[0m \u001b[38;5;28;01mreturn\u001b[39;00m \u001b[38;5;28mself\u001b[39m\u001b[38;5;241m.\u001b[39mindex\u001b[38;5;241m.\u001b[39m_get_values_for_loc(\u001b[38;5;28mself\u001b[39m, loc, label)\n",
      "File \u001b[1;32m~\\Anaconda3\\lib\\site-packages\\pandas\\core\\indexes\\base.py:3623\u001b[0m, in \u001b[0;36mIndex.get_loc\u001b[1;34m(self, key, method, tolerance)\u001b[0m\n\u001b[0;32m   3621\u001b[0m     \u001b[38;5;28;01mreturn\u001b[39;00m \u001b[38;5;28mself\u001b[39m\u001b[38;5;241m.\u001b[39m_engine\u001b[38;5;241m.\u001b[39mget_loc(casted_key)\n\u001b[0;32m   3622\u001b[0m \u001b[38;5;28;01mexcept\u001b[39;00m \u001b[38;5;167;01mKeyError\u001b[39;00m \u001b[38;5;28;01mas\u001b[39;00m err:\n\u001b[1;32m-> 3623\u001b[0m     \u001b[38;5;28;01mraise\u001b[39;00m \u001b[38;5;167;01mKeyError\u001b[39;00m(key) \u001b[38;5;28;01mfrom\u001b[39;00m \u001b[38;5;21;01merr\u001b[39;00m\n\u001b[0;32m   3624\u001b[0m \u001b[38;5;28;01mexcept\u001b[39;00m \u001b[38;5;167;01mTypeError\u001b[39;00m:\n\u001b[0;32m   3625\u001b[0m     \u001b[38;5;66;03m# If we have a listlike key, _check_indexing_error will raise\u001b[39;00m\n\u001b[0;32m   3626\u001b[0m     \u001b[38;5;66;03m#  InvalidIndexError. Otherwise we fall through and re-raise\u001b[39;00m\n\u001b[0;32m   3627\u001b[0m     \u001b[38;5;66;03m#  the TypeError.\u001b[39;00m\n\u001b[0;32m   3628\u001b[0m     \u001b[38;5;28mself\u001b[39m\u001b[38;5;241m.\u001b[39m_check_indexing_error(key)\n",
      "\u001b[1;31mKeyError\u001b[0m: 'PLACA'"
     ]
    }
   ],
   "source": [
    "import pyautogui\n",
    "import time\n",
    "from selenium import webdriver\n",
    "from selenium.webdriver.common.keys import Keys\n",
    "from selenium.webdriver.common.by import By\n",
    "from selenium.webdriver.support.ui import Select\n",
    "from datetime import datetime\n",
    "import pandas as pd\n",
    "\n",
    "\n",
    "dataAtual = datetime.today()\n",
    "formatData = dataAtual.strftime(\"%d/%m/%Y\").replace(\"/\", \"-\")\n",
    "planilha = pd.read_excel(\"C:/Users/wilk.silva/Downloads/Controle - Frota.xlsx\", \"Vencimento Documentação\", usecols=[8,9])\n",
    "for index,row in planilha.iterrows():\n",
    "    driver = webdriver.Chrome()\n",
    "    driver.get(\"https://www.detran.mt.gov.br/\")\n",
    "    time.sleep(2)\n",
    "    assert \"Início - DETRAN\" in driver.title\n",
    "    openSystem = driver.find_element(By.XPATH, \"//*[@id='myPopup']/span\").click()\n",
    "    time.sleep(2)\n",
    "    print(\"index: \"+str(index)+\"  row \"+row+\"\")\n",
    "    placa = row[\"PLACA\"]\n",
    "    driver.find_element(By.ID, \"input_placa\").send_keys(placa)\n",
    "    time.sleep(20)\n",
    "# driver.find_element(By.ID, \"input_renavam\").send_keys(row[\"RENAVAN\"])\n",
    "# driver.find_element(By.XPATH, \"//*[@id='formVeiculo']/div[4]/input[2]\").click()\n",
    "# # time.sleep(1)\n",
    "# driver.switch_to.window(driver.window_handles[1])\n",
    "# print(\"Linha \"+str(index)+\" Coluna \"+str(row)+\" \\n\")\n",
    "    driver.quit\n",
    "# planilha.to_excel(\"C:/Users/wilk.silva/Downloads/Consulta dia \"+formatData+\".xlsx\")\n"
   ]
  },
  {
   "cell_type": "raw",
   "id": "6b219198-21fd-4a56-8141-f50fecdc00d7",
   "metadata": {},
   "source": []
  },
  {
   "cell_type": "code",
   "execution_count": null,
   "id": "bb1e5c0c-11d1-4e87-b428-c05b7c66232f",
   "metadata": {},
   "outputs": [],
   "source": []
  }
 ],
 "metadata": {
  "kernelspec": {
   "display_name": "Python 3 (ipykernel)",
   "language": "python",
   "name": "python3"
  },
  "language_info": {
   "codemirror_mode": {
    "name": "ipython",
    "version": 3
   },
   "file_extension": ".py",
   "mimetype": "text/x-python",
   "name": "python",
   "nbconvert_exporter": "python",
   "pygments_lexer": "ipython3",
   "version": "3.9.12"
  }
 },
 "nbformat": 4,
 "nbformat_minor": 5
}
